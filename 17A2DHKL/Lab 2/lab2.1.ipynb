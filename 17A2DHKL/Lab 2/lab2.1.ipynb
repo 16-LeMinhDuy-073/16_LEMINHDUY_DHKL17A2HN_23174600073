{
 "cells": [
  {
   "cell_type": "markdown",
   "metadata": {},
   "source": [
    "CÂU 1:"
   ]
  },
  {
   "cell_type": "code",
   "execution_count": 1,
   "metadata": {},
   "outputs": [
    {
     "name": "stdout",
     "output_type": "stream",
     "text": [
      "nhiệt độ trong tháng: \n",
      " [17.4  11.96 17.24 14.24 29.21 17.7  25.87 21.41 13.48 14.36 24.93 10.76\n",
      " 27.83 26.97 27.82 15.12 26.91 22.77 16.53 17.49 18.48 14.74 14.44 23.38\n",
      " 17.89 17.1  28.45 24.11 10.71 23.78]\n",
      "trung bình nhiệt độ trong tháng là: 19.769333333333336\n"
     ]
    }
   ],
   "source": [
    "import numpy as np\n",
    "# tạo mảng mô phỏng dữ liệu nhiệt độ hàng ngày trong một tháng với số thực\n",
    "# nhiệt độ trong khoảng từ 10.0 đến 30.0 độ C\n",
    "nhiet_do = np.round(np.random.uniform(10.0, 30.0, size=30),2)\n",
    "print(\"nhiệt độ trong tháng: \\n\", nhiet_do)\n",
    "print('trung bình nhiệt độ trong tháng là:',np.mean(nhiet_do))"
   ]
  },
  {
   "cell_type": "markdown",
   "metadata": {},
   "source": [
    "Ý 2 câu 1 :\n"
   ]
  },
  {
   "cell_type": "code",
   "execution_count": 6,
   "metadata": {},
   "outputs": [
    {
     "name": "stdout",
     "output_type": "stream",
     "text": [
      "nhiệt độ cao nhất là: 29.21\n",
      "nhiệt độ thấp nhất là: 10.71\n",
      "nhiệt độ ngày cao nhất trong tháng là: 29.21\n",
      "ngày có nhiệt độ cao nhất là ngày thứ: 5\n"
     ]
    }
   ],
   "source": [
    "max_temp = np.max(nhiet_do)\n",
    "print(\"nhiệt độ cao nhất là:\",max_temp)\n",
    "min_temp = np.min(nhiet_do)\n",
    "print(\"nhiệt độ thấp nhất là:\",min_temp)\n",
    "day_max_temp = np.argmax(nhiet_do) + 1\n",
    "print(f'nhiệt độ ngày cao nhất trong tháng là:',max_temp)\n",
    "day_min_temp = np.argmax(nhiet_do) + 1\n",
    "print(f'ngày có nhiệt độ cao nhất là ngày thứ:',day_max_temp)"
   ]
  },
  {
   "cell_type": "markdown",
   "metadata": {},
   "source": [
    "Ý 3 Câu 1:"
   ]
  },
  {
   "cell_type": "code",
   "execution_count": 7,
   "metadata": {},
   "outputs": [
    {
     "name": "stdout",
     "output_type": "stream",
     "text": [
      "chênh lệch nhiệt độ cao nhất là:  17.07\n",
      "ngày chênh lệch cao nhất 12\n"
     ]
    }
   ],
   "source": [
    "#Tạo mảng chứa nhiệt độ của ngày hôm trước(trừ ngày cuối cùng)\n",
    "ngay_truoc = nhiet_do[:-1]\n",
    "#Tạo mảng chứa nhiệt độ của ngày hôm sau(trừ ngày đầu tiên)\n",
    "ngay_sau = nhiet_do[1:]\n",
    "# tính toán chênh lệch nhiệt độ giữa ngày hôm sau và ngày hôm nay\n",
    "chenh_lech = ngay_sau - ngay_truoc\n",
    "# xác định ngày có sự chênh lệch nhiệt độ lớn nhất \n",
    "dff_max = np.argmax(np.abs(chenh_lech)) + 1\n",
    "max_chenh_lech = chenh_lech[dff_max -1]\n",
    "print(\"chênh lệch nhiệt độ cao nhất là: \", max_chenh_lech)\n",
    "print(\"ngày chênh lệch cao nhất\",dff_max)"
   ]
  },
  {
   "cell_type": "markdown",
   "metadata": {},
   "source": [
    "CÂU 3:\n"
   ]
  },
  {
   "cell_type": "code",
   "execution_count": 8,
   "metadata": {},
   "outputs": [
    {
     "data": {
      "text/plain": [
       "array([ 5,  7,  8, 11, 13, 14, 15, 17, 18, 24, 27, 28, 30], dtype=int64)"
      ]
     },
     "execution_count": 8,
     "metadata": {},
     "output_type": "execute_result"
    }
   ],
   "source": [
    "# kiểm tra điều kiện nhiệt độ cao hơn 20 độ C \n",
    "condition = nhiet_do > 20\n",
    "# sử dụng np.where để tìm chỉ số của các phần từ thỏa mãn điều kiện\n",
    "indices = np.where(condition)\n",
    "# lấy chỉ số đầu tiên ( vì np.where  trả về tuple)\n",
    "day_indices = indices[0]\n",
    "# chỉnh chỉ số để phù hợp với đánh số ngày( bắt đầu từ 1 chứ kphai 0)\n",
    "days_above_20_separated = day_indices +1\n",
    "days_above_20_separated"
   ]
  },
  {
   "cell_type": "code",
   "execution_count": 9,
   "metadata": {},
   "outputs": [
    {
     "data": {
      "text/plain": [
       "(array([ 4,  6,  7, 10, 12, 13, 14, 16, 17, 23, 26, 27, 29], dtype=int64),)"
      ]
     },
     "execution_count": 9,
     "metadata": {},
     "output_type": "execute_result"
    }
   ],
   "source": [
    "indices"
   ]
  },
  {
   "cell_type": "code",
   "execution_count": 10,
   "metadata": {},
   "outputs": [
    {
     "name": "stdout",
     "output_type": "stream",
     "text": [
      "nhiệt độ các ngày 5,10,15,20 và 25 : [29.21 14.36 27.82 17.49 17.89]\n"
     ]
    }
   ],
   "source": [
    "# lấy nhiệt độ của 5,10,15,20 và 25\n",
    "# tạo mảng chỉ số tương ứng cho các ngày 5,10,15,20 và 25\n",
    "indices = np.array([4,9,14,19,24]) # chỉ lấy trong numpy bắt đầu từ 0\n",
    "# lấy nhiệt độ của các ngày cụ thể \n",
    "selected_temps = nhiet_do[indices]\n",
    "# hiển thị kết quả\n",
    "print(\"nhiệt độ các ngày 5,10,15,20 và 25 :\",selected_temps)\n"
   ]
  },
  {
   "cell_type": "code",
   "execution_count": 11,
   "metadata": {},
   "outputs": [
    {
     "name": "stdout",
     "output_type": "stream",
     "text": [
      "nhiệt độ trung bình: 19.769333333333336\n",
      " nhiệt độ các ngày trên trung bình  [29.21 25.87 21.41 24.93 27.83 26.97 27.82 26.91 22.77 23.38 28.45 24.11\n",
      " 23.78]\n"
     ]
    }
   ],
   "source": [
    "temp_tb = np.mean(nhiet_do)\n",
    "# lọc nhiệt độ lớn hơn trung bình\n",
    "above_average_temps = nhiet_do[nhiet_do > temp_tb]\n",
    "# hiển thị kết quả :\n",
    "print(\"nhiệt độ trung bình:\",temp_tb)\n",
    "print(\" nhiệt độ các ngày trên trung bình \",above_average_temps)"
   ]
  },
  {
   "cell_type": "code",
   "execution_count": 13,
   "metadata": {},
   "outputs": [
    {
     "name": "stdout",
     "output_type": "stream",
     "text": [
      "nhiệt độ các ngày lẻ : [17.4  17.24 29.21 25.87 13.48 24.93 27.83 27.82 26.91 16.53 18.48 14.44\n",
      " 17.89 28.45 10.71]\n",
      "nhiệt độ các ngày chẵn: [11.96 14.24 17.7  21.41 14.36 10.76 26.97 15.12 22.77 17.49 14.74 23.38\n",
      " 17.1  24.11 23.78]\n"
     ]
    }
   ],
   "source": [
    "# chỉ số các ngày lẻ( ngày 1,3,5,... tương đương với index 0,2,4...)\n",
    "odd_indices = np.arange(0,len(nhiet_do),2)  # step =2\n",
    "# chỉ số của các ngày chẵn ( ngày 2,4,6,....tương ứng với index 1,3,5)\n",
    "even_indices = np.arange(1, len(nhiet_do),2) # step = 2\n",
    "# lấy nhiệt độ của các ngày lẻ và chẵn bằng fancy indexing\n",
    "odd_days_temps = nhiet_do[odd_indices]\n",
    "even_days_temps = nhiet_do[even_indices]\n",
    "print(\"nhiệt độ các ngày lẻ :\",odd_days_temps)\n",
    "print('nhiệt độ các ngày chẵn:',even_days_temps)"
   ]
  },
  {
   "cell_type": "markdown",
   "metadata": {},
   "source": []
  }
 ],
 "metadata": {
  "kernelspec": {
   "display_name": "Python 3",
   "language": "python",
   "name": "python3"
  },
  "language_info": {
   "codemirror_mode": {
    "name": "ipython",
    "version": 3
   },
   "file_extension": ".py",
   "mimetype": "text/x-python",
   "name": "python",
   "nbconvert_exporter": "python",
   "pygments_lexer": "ipython3",
   "version": "3.11.9"
  }
 },
 "nbformat": 4,
 "nbformat_minor": 2
}
